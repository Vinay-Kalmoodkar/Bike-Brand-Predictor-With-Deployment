{
 "cells": [
  {
   "cell_type": "markdown",
   "metadata": {
    "colab_type": "text",
    "id": "IPRMiwHPmKsi"
   },
   "source": [
    "### Mounting Google Drive"
   ]
  },
  {
   "cell_type": "code",
   "execution_count": 1,
   "metadata": {
    "colab": {
     "base_uri": "https://localhost:8080/",
     "height": 54
    },
    "colab_type": "code",
    "executionInfo": {
     "elapsed": 1344,
     "status": "ok",
     "timestamp": 1594356592317,
     "user": {
      "displayName": "Vinay Kalmoodkar",
      "photoUrl": "https://lh3.googleusercontent.com/a-/AOh14GiKfkFaddOuaIe9XV3QKqm-o1IFM6WMKoS3xHMjaA=s64",
      "userId": "01579867341766004659"
     },
     "user_tz": -330
    },
    "id": "srriFxY8nM_f",
    "outputId": "e7a28058-8627-41bd-c9d0-4cbc85180efa"
   },
   "outputs": [
    {
     "name": "stdout",
     "output_type": "stream",
     "text": [
      "Drive already mounted at /content/drive; to attempt to forcibly remount, call drive.mount(\"/content/drive\", force_remount=True).\n"
     ]
    }
   ],
   "source": [
    "from google.colab import drive\n",
    "drive.mount('/content/drive')"
   ]
  },
  {
   "cell_type": "markdown",
   "metadata": {
    "colab_type": "text",
    "id": "8cLmfIHvmKsk"
   },
   "source": [
    "### Importing Libraries and Resnet50 "
   ]
  },
  {
   "cell_type": "code",
   "execution_count": 2,
   "metadata": {
    "colab": {},
    "colab_type": "code",
    "executionInfo": {
     "elapsed": 3563,
     "status": "ok",
     "timestamp": 1594356605071,
     "user": {
      "displayName": "Vinay Kalmoodkar",
      "photoUrl": "https://lh3.googleusercontent.com/a-/AOh14GiKfkFaddOuaIe9XV3QKqm-o1IFM6WMKoS3xHMjaA=s64",
      "userId": "01579867341766004659"
     },
     "user_tz": -330
    },
    "id": "eymsWyW5mKsm"
   },
   "outputs": [],
   "source": [
    "# import the libraries as shown below\n",
    "from tensorflow.keras.layers import Input, Lambda, Dense, Flatten\n",
    "from tensorflow.keras.models import Model\n",
    "from tensorflow.keras.applications.resnet50 import ResNet50\n",
    "#from keras.applications.vgg16 import VGG16\n",
    "from tensorflow.keras.applications.resnet50 import preprocess_input\n",
    "from tensorflow.keras.preprocessing import image\n",
    "from tensorflow.keras.preprocessing.image import ImageDataGenerator,load_img\n",
    "from tensorflow.keras.models import Sequential\n",
    "import numpy as np\n",
    "from glob import glob\n",
    "import matplotlib.pyplot as plt"
   ]
  },
  {
   "cell_type": "code",
   "execution_count": 3,
   "metadata": {
    "colab": {},
    "colab_type": "code",
    "executionInfo": {
     "elapsed": 3542,
     "status": "ok",
     "timestamp": 1594356605074,
     "user": {
      "displayName": "Vinay Kalmoodkar",
      "photoUrl": "https://lh3.googleusercontent.com/a-/AOh14GiKfkFaddOuaIe9XV3QKqm-o1IFM6WMKoS3xHMjaA=s64",
      "userId": "01579867341766004659"
     },
     "user_tz": -330
    },
    "id": "IMp_88P8mKsx"
   },
   "outputs": [],
   "source": [
    "# re-size all the images to this\n",
    "IMAGE_SIZE = [224, 224]\n",
    "#replace path to training dataset\n",
    "train_path = ''\n",
    "#replace path to testing dataset\n",
    "valid_path = ''"
   ]
  },
  {
   "cell_type": "markdown",
   "metadata": {},
   "source": [
    "### Model Building:\n",
    "Initializing ResNet50 library"
   ]
  },
  {
   "cell_type": "code",
   "execution_count": 4,
   "metadata": {
    "colab": {},
    "colab_type": "code",
    "executionInfo": {
     "elapsed": 5317,
     "status": "ok",
     "timestamp": 1594356610419,
     "user": {
      "displayName": "Vinay Kalmoodkar",
      "photoUrl": "https://lh3.googleusercontent.com/a-/AOh14GiKfkFaddOuaIe9XV3QKqm-o1IFM6WMKoS3xHMjaA=s64",
      "userId": "01579867341766004659"
     },
     "user_tz": -330
    },
    "id": "j0pOU65TmKs3"
   },
   "outputs": [],
   "source": [
    "# Import the ResNet50 library and excluding the output layer\n",
    "resnet = ResNet50(input_shape=IMAGE_SIZE + [3], weights='imagenet', include_top=False)"
   ]
  },
  {
   "cell_type": "code",
   "execution_count": 5,
   "metadata": {
    "colab": {},
    "colab_type": "code",
    "executionInfo": {
     "elapsed": 1487,
     "status": "ok",
     "timestamp": 1594356611920,
     "user": {
      "displayName": "Vinay Kalmoodkar",
      "photoUrl": "https://lh3.googleusercontent.com/a-/AOh14GiKfkFaddOuaIe9XV3QKqm-o1IFM6WMKoS3xHMjaA=s64",
      "userId": "01579867341766004659"
     },
     "user_tz": -330
    },
    "id": "9SpNVpYPmKtD"
   },
   "outputs": [],
   "source": [
    "# don't train existing weights\n",
    "for layer in resnet.layers:\n",
    "    layer.trainable = False"
   ]
  },
  {
   "cell_type": "code",
   "execution_count": 6,
   "metadata": {
    "colab": {
     "base_uri": "https://localhost:8080/",
     "height": 70
    },
    "colab_type": "code",
    "executionInfo": {
     "elapsed": 1300,
     "status": "ok",
     "timestamp": 1594356626072,
     "user": {
      "displayName": "Vinay Kalmoodkar",
      "photoUrl": "https://lh3.googleusercontent.com/a-/AOh14GiKfkFaddOuaIe9XV3QKqm-o1IFM6WMKoS3xHMjaA=s64",
      "userId": "01579867341766004659"
     },
     "user_tz": -330
    },
    "id": "65C5PxJ-mKtH",
    "outputId": "a1a908c3-0a5a-41a2-a8dd-b942a6a1ef81"
   },
   "outputs": [
    {
     "data": {
      "text/plain": [
       "['/content/drive/My Drive/Projects/Bike Brand Predictor/Datasets/Train/Pulsar',\n",
       " '/content/drive/My Drive/Projects/Bike Brand Predictor/Datasets/Train/Ktm',\n",
       " '/content/drive/My Drive/Projects/Bike Brand Predictor/Datasets/Train/Royal Enfield']"
      ]
     },
     "execution_count": 6,
     "metadata": {
      "tags": []
     },
     "output_type": "execute_result"
    }
   ],
   "source": [
    "# useful for getting number of output classes\n",
    "folders = glob(train_path+'/*')\n",
    "folders"
   ]
  },
  {
   "cell_type": "code",
   "execution_count": 7,
   "metadata": {
    "colab": {},
    "colab_type": "code",
    "executionInfo": {
     "elapsed": 1186,
     "status": "ok",
     "timestamp": 1594356652780,
     "user": {
      "displayName": "Vinay Kalmoodkar",
      "photoUrl": "https://lh3.googleusercontent.com/a-/AOh14GiKfkFaddOuaIe9XV3QKqm-o1IFM6WMKoS3xHMjaA=s64",
      "userId": "01579867341766004659"
     },
     "user_tz": -330
    },
    "id": "8-UOPZlqmKtV"
   },
   "outputs": [],
   "source": [
    "#flatten the layer and give output layer\n",
    "x = Flatten()(resnet.output)\n",
    "output = Dense(len(folders), activation='softmax')(x)"
   ]
  },
  {
   "cell_type": "code",
   "execution_count": 8,
   "metadata": {
    "colab": {},
    "colab_type": "code",
    "executionInfo": {
     "elapsed": 1121,
     "status": "ok",
     "timestamp": 1594356664297,
     "user": {
      "displayName": "Vinay Kalmoodkar",
      "photoUrl": "https://lh3.googleusercontent.com/a-/AOh14GiKfkFaddOuaIe9XV3QKqm-o1IFM6WMKoS3xHMjaA=s64",
      "userId": "01579867341766004659"
     },
     "user_tz": -330
    },
    "id": "ME9ukX0fmKta"
   },
   "outputs": [],
   "source": [
    "# create a model object\n",
    "model = Model(inputs=resnet.input, outputs=output)"
   ]
  },
  {
   "cell_type": "code",
   "execution_count": 9,
   "metadata": {
    "colab": {
     "base_uri": "https://localhost:8080/",
     "height": 1000
    },
    "colab_type": "code",
    "executionInfo": {
     "elapsed": 1276,
     "status": "ok",
     "timestamp": 1594356680330,
     "user": {
      "displayName": "Vinay Kalmoodkar",
      "photoUrl": "https://lh3.googleusercontent.com/a-/AOh14GiKfkFaddOuaIe9XV3QKqm-o1IFM6WMKoS3xHMjaA=s64",
      "userId": "01579867341766004659"
     },
     "user_tz": -330
    },
    "id": "v0q2XmaHmKtl",
    "outputId": "b75e51d0-8d88-4566-b918-eb7ec8b21390"
   },
   "outputs": [
    {
     "name": "stdout",
     "output_type": "stream",
     "text": [
      "Model: \"model\"\n",
      "__________________________________________________________________________________________________\n",
      "Layer (type)                    Output Shape         Param #     Connected to                     \n",
      "==================================================================================================\n",
      "input_1 (InputLayer)            [(None, 224, 224, 3) 0                                            \n",
      "__________________________________________________________________________________________________\n",
      "conv1_pad (ZeroPadding2D)       (None, 230, 230, 3)  0           input_1[0][0]                    \n",
      "__________________________________________________________________________________________________\n",
      "conv1_conv (Conv2D)             (None, 112, 112, 64) 9472        conv1_pad[0][0]                  \n",
      "__________________________________________________________________________________________________\n",
      "conv1_bn (BatchNormalization)   (None, 112, 112, 64) 256         conv1_conv[0][0]                 \n",
      "__________________________________________________________________________________________________\n",
      "conv1_relu (Activation)         (None, 112, 112, 64) 0           conv1_bn[0][0]                   \n",
      "__________________________________________________________________________________________________\n",
      "pool1_pad (ZeroPadding2D)       (None, 114, 114, 64) 0           conv1_relu[0][0]                 \n",
      "__________________________________________________________________________________________________\n",
      "pool1_pool (MaxPooling2D)       (None, 56, 56, 64)   0           pool1_pad[0][0]                  \n",
      "__________________________________________________________________________________________________\n",
      "conv2_block1_1_conv (Conv2D)    (None, 56, 56, 64)   4160        pool1_pool[0][0]                 \n",
      "__________________________________________________________________________________________________\n",
      "conv2_block1_1_bn (BatchNormali (None, 56, 56, 64)   256         conv2_block1_1_conv[0][0]        \n",
      "__________________________________________________________________________________________________\n",
      "conv2_block1_1_relu (Activation (None, 56, 56, 64)   0           conv2_block1_1_bn[0][0]          \n",
      "__________________________________________________________________________________________________\n",
      "conv2_block1_2_conv (Conv2D)    (None, 56, 56, 64)   36928       conv2_block1_1_relu[0][0]        \n",
      "__________________________________________________________________________________________________\n",
      "conv2_block1_2_bn (BatchNormali (None, 56, 56, 64)   256         conv2_block1_2_conv[0][0]        \n",
      "__________________________________________________________________________________________________\n",
      "conv2_block1_2_relu (Activation (None, 56, 56, 64)   0           conv2_block1_2_bn[0][0]          \n",
      "__________________________________________________________________________________________________\n",
      "conv2_block1_0_conv (Conv2D)    (None, 56, 56, 256)  16640       pool1_pool[0][0]                 \n",
      "__________________________________________________________________________________________________\n",
      "conv2_block1_3_conv (Conv2D)    (None, 56, 56, 256)  16640       conv2_block1_2_relu[0][0]        \n",
      "__________________________________________________________________________________________________\n",
      "conv2_block1_0_bn (BatchNormali (None, 56, 56, 256)  1024        conv2_block1_0_conv[0][0]        \n",
      "__________________________________________________________________________________________________\n",
      "conv2_block1_3_bn (BatchNormali (None, 56, 56, 256)  1024        conv2_block1_3_conv[0][0]        \n",
      "__________________________________________________________________________________________________\n",
      "conv2_block1_add (Add)          (None, 56, 56, 256)  0           conv2_block1_0_bn[0][0]          \n",
      "                                                                 conv2_block1_3_bn[0][0]          \n",
      "__________________________________________________________________________________________________\n",
      "conv2_block1_out (Activation)   (None, 56, 56, 256)  0           conv2_block1_add[0][0]           \n",
      "__________________________________________________________________________________________________\n",
      "conv2_block2_1_conv (Conv2D)    (None, 56, 56, 64)   16448       conv2_block1_out[0][0]           \n",
      "__________________________________________________________________________________________________\n",
      "conv2_block2_1_bn (BatchNormali (None, 56, 56, 64)   256         conv2_block2_1_conv[0][0]        \n",
      "__________________________________________________________________________________________________\n",
      "conv2_block2_1_relu (Activation (None, 56, 56, 64)   0           conv2_block2_1_bn[0][0]          \n",
      "__________________________________________________________________________________________________\n",
      "conv2_block2_2_conv (Conv2D)    (None, 56, 56, 64)   36928       conv2_block2_1_relu[0][0]        \n",
      "__________________________________________________________________________________________________\n",
      "conv2_block2_2_bn (BatchNormali (None, 56, 56, 64)   256         conv2_block2_2_conv[0][0]        \n",
      "__________________________________________________________________________________________________\n",
      "conv2_block2_2_relu (Activation (None, 56, 56, 64)   0           conv2_block2_2_bn[0][0]          \n",
      "__________________________________________________________________________________________________\n",
      "conv2_block2_3_conv (Conv2D)    (None, 56, 56, 256)  16640       conv2_block2_2_relu[0][0]        \n",
      "__________________________________________________________________________________________________\n",
      "conv2_block2_3_bn (BatchNormali (None, 56, 56, 256)  1024        conv2_block2_3_conv[0][0]        \n",
      "__________________________________________________________________________________________________\n",
      "conv2_block2_add (Add)          (None, 56, 56, 256)  0           conv2_block1_out[0][0]           \n",
      "                                                                 conv2_block2_3_bn[0][0]          \n",
      "__________________________________________________________________________________________________\n",
      "conv2_block2_out (Activation)   (None, 56, 56, 256)  0           conv2_block2_add[0][0]           \n",
      "__________________________________________________________________________________________________\n",
      "conv2_block3_1_conv (Conv2D)    (None, 56, 56, 64)   16448       conv2_block2_out[0][0]           \n",
      "__________________________________________________________________________________________________\n",
      "conv2_block3_1_bn (BatchNormali (None, 56, 56, 64)   256         conv2_block3_1_conv[0][0]        \n",
      "__________________________________________________________________________________________________\n",
      "conv2_block3_1_relu (Activation (None, 56, 56, 64)   0           conv2_block3_1_bn[0][0]          \n",
      "__________________________________________________________________________________________________\n",
      "conv2_block3_2_conv (Conv2D)    (None, 56, 56, 64)   36928       conv2_block3_1_relu[0][0]        \n",
      "__________________________________________________________________________________________________\n",
      "conv2_block3_2_bn (BatchNormali (None, 56, 56, 64)   256         conv2_block3_2_conv[0][0]        \n",
      "__________________________________________________________________________________________________\n",
      "conv2_block3_2_relu (Activation (None, 56, 56, 64)   0           conv2_block3_2_bn[0][0]          \n",
      "__________________________________________________________________________________________________\n",
      "conv2_block3_3_conv (Conv2D)    (None, 56, 56, 256)  16640       conv2_block3_2_relu[0][0]        \n",
      "__________________________________________________________________________________________________\n",
      "conv2_block3_3_bn (BatchNormali (None, 56, 56, 256)  1024        conv2_block3_3_conv[0][0]        \n",
      "__________________________________________________________________________________________________\n",
      "conv2_block3_add (Add)          (None, 56, 56, 256)  0           conv2_block2_out[0][0]           \n",
      "                                                                 conv2_block3_3_bn[0][0]          \n",
      "__________________________________________________________________________________________________\n",
      "conv2_block3_out (Activation)   (None, 56, 56, 256)  0           conv2_block3_add[0][0]           \n",
      "__________________________________________________________________________________________________\n",
      "conv3_block1_1_conv (Conv2D)    (None, 28, 28, 128)  32896       conv2_block3_out[0][0]           \n",
      "__________________________________________________________________________________________________\n",
      "conv3_block1_1_bn (BatchNormali (None, 28, 28, 128)  512         conv3_block1_1_conv[0][0]        \n",
      "__________________________________________________________________________________________________\n",
      "conv3_block1_1_relu (Activation (None, 28, 28, 128)  0           conv3_block1_1_bn[0][0]          \n",
      "__________________________________________________________________________________________________\n",
      "conv3_block1_2_conv (Conv2D)    (None, 28, 28, 128)  147584      conv3_block1_1_relu[0][0]        \n",
      "__________________________________________________________________________________________________\n",
      "conv3_block1_2_bn (BatchNormali (None, 28, 28, 128)  512         conv3_block1_2_conv[0][0]        \n",
      "__________________________________________________________________________________________________\n",
      "conv3_block1_2_relu (Activation (None, 28, 28, 128)  0           conv3_block1_2_bn[0][0]          \n",
      "__________________________________________________________________________________________________\n",
      "conv3_block1_0_conv (Conv2D)    (None, 28, 28, 512)  131584      conv2_block3_out[0][0]           \n",
      "__________________________________________________________________________________________________\n",
      "conv3_block1_3_conv (Conv2D)    (None, 28, 28, 512)  66048       conv3_block1_2_relu[0][0]        \n",
      "__________________________________________________________________________________________________\n",
      "conv3_block1_0_bn (BatchNormali (None, 28, 28, 512)  2048        conv3_block1_0_conv[0][0]        \n",
      "__________________________________________________________________________________________________\n",
      "conv3_block1_3_bn (BatchNormali (None, 28, 28, 512)  2048        conv3_block1_3_conv[0][0]        \n",
      "__________________________________________________________________________________________________\n",
      "conv3_block1_add (Add)          (None, 28, 28, 512)  0           conv3_block1_0_bn[0][0]          \n",
      "                                                                 conv3_block1_3_bn[0][0]          \n",
      "__________________________________________________________________________________________________\n",
      "conv3_block1_out (Activation)   (None, 28, 28, 512)  0           conv3_block1_add[0][0]           \n",
      "__________________________________________________________________________________________________\n",
      "conv3_block2_1_conv (Conv2D)    (None, 28, 28, 128)  65664       conv3_block1_out[0][0]           \n",
      "__________________________________________________________________________________________________\n",
      "conv3_block2_1_bn (BatchNormali (None, 28, 28, 128)  512         conv3_block2_1_conv[0][0]        \n",
      "__________________________________________________________________________________________________\n",
      "conv3_block2_1_relu (Activation (None, 28, 28, 128)  0           conv3_block2_1_bn[0][0]          \n",
      "__________________________________________________________________________________________________\n",
      "conv3_block2_2_conv (Conv2D)    (None, 28, 28, 128)  147584      conv3_block2_1_relu[0][0]        \n",
      "__________________________________________________________________________________________________\n",
      "conv3_block2_2_bn (BatchNormali (None, 28, 28, 128)  512         conv3_block2_2_conv[0][0]        \n",
      "__________________________________________________________________________________________________\n",
      "conv3_block2_2_relu (Activation (None, 28, 28, 128)  0           conv3_block2_2_bn[0][0]          \n",
      "__________________________________________________________________________________________________\n",
      "conv3_block2_3_conv (Conv2D)    (None, 28, 28, 512)  66048       conv3_block2_2_relu[0][0]        \n",
      "__________________________________________________________________________________________________\n",
      "conv3_block2_3_bn (BatchNormali (None, 28, 28, 512)  2048        conv3_block2_3_conv[0][0]        \n",
      "__________________________________________________________________________________________________\n",
      "conv3_block2_add (Add)          (None, 28, 28, 512)  0           conv3_block1_out[0][0]           \n",
      "                                                                 conv3_block2_3_bn[0][0]          \n",
      "__________________________________________________________________________________________________\n",
      "conv3_block2_out (Activation)   (None, 28, 28, 512)  0           conv3_block2_add[0][0]           \n",
      "__________________________________________________________________________________________________\n",
      "conv3_block3_1_conv (Conv2D)    (None, 28, 28, 128)  65664       conv3_block2_out[0][0]           \n",
      "__________________________________________________________________________________________________\n",
      "conv3_block3_1_bn (BatchNormali (None, 28, 28, 128)  512         conv3_block3_1_conv[0][0]        \n",
      "__________________________________________________________________________________________________\n",
      "conv3_block3_1_relu (Activation (None, 28, 28, 128)  0           conv3_block3_1_bn[0][0]          \n",
      "__________________________________________________________________________________________________\n",
      "conv3_block3_2_conv (Conv2D)    (None, 28, 28, 128)  147584      conv3_block3_1_relu[0][0]        \n",
      "__________________________________________________________________________________________________\n",
      "conv3_block3_2_bn (BatchNormali (None, 28, 28, 128)  512         conv3_block3_2_conv[0][0]        \n",
      "__________________________________________________________________________________________________\n",
      "conv3_block3_2_relu (Activation (None, 28, 28, 128)  0           conv3_block3_2_bn[0][0]          \n",
      "__________________________________________________________________________________________________\n",
      "conv3_block3_3_conv (Conv2D)    (None, 28, 28, 512)  66048       conv3_block3_2_relu[0][0]        \n",
      "__________________________________________________________________________________________________\n",
      "conv3_block3_3_bn (BatchNormali (None, 28, 28, 512)  2048        conv3_block3_3_conv[0][0]        \n",
      "__________________________________________________________________________________________________\n",
      "conv3_block3_add (Add)          (None, 28, 28, 512)  0           conv3_block2_out[0][0]           \n",
      "                                                                 conv3_block3_3_bn[0][0]          \n",
      "__________________________________________________________________________________________________\n",
      "conv3_block3_out (Activation)   (None, 28, 28, 512)  0           conv3_block3_add[0][0]           \n",
      "__________________________________________________________________________________________________\n",
      "conv3_block4_1_conv (Conv2D)    (None, 28, 28, 128)  65664       conv3_block3_out[0][0]           \n",
      "__________________________________________________________________________________________________\n",
      "conv3_block4_1_bn (BatchNormali (None, 28, 28, 128)  512         conv3_block4_1_conv[0][0]        \n",
      "__________________________________________________________________________________________________\n",
      "conv3_block4_1_relu (Activation (None, 28, 28, 128)  0           conv3_block4_1_bn[0][0]          \n",
      "__________________________________________________________________________________________________\n",
      "conv3_block4_2_conv (Conv2D)    (None, 28, 28, 128)  147584      conv3_block4_1_relu[0][0]        \n",
      "__________________________________________________________________________________________________\n",
      "conv3_block4_2_bn (BatchNormali (None, 28, 28, 128)  512         conv3_block4_2_conv[0][0]        \n",
      "__________________________________________________________________________________________________\n",
      "conv3_block4_2_relu (Activation (None, 28, 28, 128)  0           conv3_block4_2_bn[0][0]          \n",
      "__________________________________________________________________________________________________\n",
      "conv3_block4_3_conv (Conv2D)    (None, 28, 28, 512)  66048       conv3_block4_2_relu[0][0]        \n",
      "__________________________________________________________________________________________________\n",
      "conv3_block4_3_bn (BatchNormali (None, 28, 28, 512)  2048        conv3_block4_3_conv[0][0]        \n",
      "__________________________________________________________________________________________________\n",
      "conv3_block4_add (Add)          (None, 28, 28, 512)  0           conv3_block3_out[0][0]           \n",
      "                                                                 conv3_block4_3_bn[0][0]          \n",
      "__________________________________________________________________________________________________\n",
      "conv3_block4_out (Activation)   (None, 28, 28, 512)  0           conv3_block4_add[0][0]           \n",
      "__________________________________________________________________________________________________\n",
      "conv4_block1_1_conv (Conv2D)    (None, 14, 14, 256)  131328      conv3_block4_out[0][0]           \n",
      "__________________________________________________________________________________________________\n",
      "conv4_block1_1_bn (BatchNormali (None, 14, 14, 256)  1024        conv4_block1_1_conv[0][0]        \n",
      "__________________________________________________________________________________________________\n",
      "conv4_block1_1_relu (Activation (None, 14, 14, 256)  0           conv4_block1_1_bn[0][0]          \n",
      "__________________________________________________________________________________________________\n",
      "conv4_block1_2_conv (Conv2D)    (None, 14, 14, 256)  590080      conv4_block1_1_relu[0][0]        \n",
      "__________________________________________________________________________________________________\n",
      "conv4_block1_2_bn (BatchNormali (None, 14, 14, 256)  1024        conv4_block1_2_conv[0][0]        \n",
      "__________________________________________________________________________________________________\n",
      "conv4_block1_2_relu (Activation (None, 14, 14, 256)  0           conv4_block1_2_bn[0][0]          \n",
      "__________________________________________________________________________________________________\n",
      "conv4_block1_0_conv (Conv2D)    (None, 14, 14, 1024) 525312      conv3_block4_out[0][0]           \n",
      "__________________________________________________________________________________________________\n",
      "conv4_block1_3_conv (Conv2D)    (None, 14, 14, 1024) 263168      conv4_block1_2_relu[0][0]        \n",
      "__________________________________________________________________________________________________\n",
      "conv4_block1_0_bn (BatchNormali (None, 14, 14, 1024) 4096        conv4_block1_0_conv[0][0]        \n",
      "__________________________________________________________________________________________________\n",
      "conv4_block1_3_bn (BatchNormali (None, 14, 14, 1024) 4096        conv4_block1_3_conv[0][0]        \n",
      "__________________________________________________________________________________________________\n",
      "conv4_block1_add (Add)          (None, 14, 14, 1024) 0           conv4_block1_0_bn[0][0]          \n",
      "                                                                 conv4_block1_3_bn[0][0]          \n",
      "__________________________________________________________________________________________________\n",
      "conv4_block1_out (Activation)   (None, 14, 14, 1024) 0           conv4_block1_add[0][0]           \n",
      "__________________________________________________________________________________________________\n",
      "conv4_block2_1_conv (Conv2D)    (None, 14, 14, 256)  262400      conv4_block1_out[0][0]           \n",
      "__________________________________________________________________________________________________\n",
      "conv4_block2_1_bn (BatchNormali (None, 14, 14, 256)  1024        conv4_block2_1_conv[0][0]        \n",
      "__________________________________________________________________________________________________\n",
      "conv4_block2_1_relu (Activation (None, 14, 14, 256)  0           conv4_block2_1_bn[0][0]          \n",
      "__________________________________________________________________________________________________\n",
      "conv4_block2_2_conv (Conv2D)    (None, 14, 14, 256)  590080      conv4_block2_1_relu[0][0]        \n",
      "__________________________________________________________________________________________________\n",
      "conv4_block2_2_bn (BatchNormali (None, 14, 14, 256)  1024        conv4_block2_2_conv[0][0]        \n",
      "__________________________________________________________________________________________________\n",
      "conv4_block2_2_relu (Activation (None, 14, 14, 256)  0           conv4_block2_2_bn[0][0]          \n",
      "__________________________________________________________________________________________________\n",
      "conv4_block2_3_conv (Conv2D)    (None, 14, 14, 1024) 263168      conv4_block2_2_relu[0][0]        \n",
      "__________________________________________________________________________________________________\n",
      "conv4_block2_3_bn (BatchNormali (None, 14, 14, 1024) 4096        conv4_block2_3_conv[0][0]        \n",
      "__________________________________________________________________________________________________\n",
      "conv4_block2_add (Add)          (None, 14, 14, 1024) 0           conv4_block1_out[0][0]           \n",
      "                                                                 conv4_block2_3_bn[0][0]          \n",
      "__________________________________________________________________________________________________\n",
      "conv4_block2_out (Activation)   (None, 14, 14, 1024) 0           conv4_block2_add[0][0]           \n",
      "__________________________________________________________________________________________________\n",
      "conv4_block3_1_conv (Conv2D)    (None, 14, 14, 256)  262400      conv4_block2_out[0][0]           \n",
      "__________________________________________________________________________________________________\n",
      "conv4_block3_1_bn (BatchNormali (None, 14, 14, 256)  1024        conv4_block3_1_conv[0][0]        \n",
      "__________________________________________________________________________________________________\n",
      "conv4_block3_1_relu (Activation (None, 14, 14, 256)  0           conv4_block3_1_bn[0][0]          \n",
      "__________________________________________________________________________________________________\n",
      "conv4_block3_2_conv (Conv2D)    (None, 14, 14, 256)  590080      conv4_block3_1_relu[0][0]        \n",
      "__________________________________________________________________________________________________\n",
      "conv4_block3_2_bn (BatchNormali (None, 14, 14, 256)  1024        conv4_block3_2_conv[0][0]        \n",
      "__________________________________________________________________________________________________\n",
      "conv4_block3_2_relu (Activation (None, 14, 14, 256)  0           conv4_block3_2_bn[0][0]          \n",
      "__________________________________________________________________________________________________\n",
      "conv4_block3_3_conv (Conv2D)    (None, 14, 14, 1024) 263168      conv4_block3_2_relu[0][0]        \n",
      "__________________________________________________________________________________________________\n",
      "conv4_block3_3_bn (BatchNormali (None, 14, 14, 1024) 4096        conv4_block3_3_conv[0][0]        \n",
      "__________________________________________________________________________________________________\n",
      "conv4_block3_add (Add)          (None, 14, 14, 1024) 0           conv4_block2_out[0][0]           \n",
      "                                                                 conv4_block3_3_bn[0][0]          \n",
      "__________________________________________________________________________________________________\n",
      "conv4_block3_out (Activation)   (None, 14, 14, 1024) 0           conv4_block3_add[0][0]           \n",
      "__________________________________________________________________________________________________\n",
      "conv4_block4_1_conv (Conv2D)    (None, 14, 14, 256)  262400      conv4_block3_out[0][0]           \n",
      "__________________________________________________________________________________________________\n",
      "conv4_block4_1_bn (BatchNormali (None, 14, 14, 256)  1024        conv4_block4_1_conv[0][0]        \n",
      "__________________________________________________________________________________________________\n",
      "conv4_block4_1_relu (Activation (None, 14, 14, 256)  0           conv4_block4_1_bn[0][0]          \n",
      "__________________________________________________________________________________________________\n",
      "conv4_block4_2_conv (Conv2D)    (None, 14, 14, 256)  590080      conv4_block4_1_relu[0][0]        \n",
      "__________________________________________________________________________________________________\n",
      "conv4_block4_2_bn (BatchNormali (None, 14, 14, 256)  1024        conv4_block4_2_conv[0][0]        \n",
      "__________________________________________________________________________________________________\n",
      "conv4_block4_2_relu (Activation (None, 14, 14, 256)  0           conv4_block4_2_bn[0][0]          \n",
      "__________________________________________________________________________________________________\n",
      "conv4_block4_3_conv (Conv2D)    (None, 14, 14, 1024) 263168      conv4_block4_2_relu[0][0]        \n",
      "__________________________________________________________________________________________________\n",
      "conv4_block4_3_bn (BatchNormali (None, 14, 14, 1024) 4096        conv4_block4_3_conv[0][0]        \n",
      "__________________________________________________________________________________________________\n",
      "conv4_block4_add (Add)          (None, 14, 14, 1024) 0           conv4_block3_out[0][0]           \n",
      "                                                                 conv4_block4_3_bn[0][0]          \n",
      "__________________________________________________________________________________________________\n",
      "conv4_block4_out (Activation)   (None, 14, 14, 1024) 0           conv4_block4_add[0][0]           \n",
      "__________________________________________________________________________________________________\n",
      "conv4_block5_1_conv (Conv2D)    (None, 14, 14, 256)  262400      conv4_block4_out[0][0]           \n",
      "__________________________________________________________________________________________________\n",
      "conv4_block5_1_bn (BatchNormali (None, 14, 14, 256)  1024        conv4_block5_1_conv[0][0]        \n",
      "__________________________________________________________________________________________________\n",
      "conv4_block5_1_relu (Activation (None, 14, 14, 256)  0           conv4_block5_1_bn[0][0]          \n",
      "__________________________________________________________________________________________________\n",
      "conv4_block5_2_conv (Conv2D)    (None, 14, 14, 256)  590080      conv4_block5_1_relu[0][0]        \n",
      "__________________________________________________________________________________________________\n",
      "conv4_block5_2_bn (BatchNormali (None, 14, 14, 256)  1024        conv4_block5_2_conv[0][0]        \n",
      "__________________________________________________________________________________________________\n",
      "conv4_block5_2_relu (Activation (None, 14, 14, 256)  0           conv4_block5_2_bn[0][0]          \n",
      "__________________________________________________________________________________________________\n",
      "conv4_block5_3_conv (Conv2D)    (None, 14, 14, 1024) 263168      conv4_block5_2_relu[0][0]        \n",
      "__________________________________________________________________________________________________\n",
      "conv4_block5_3_bn (BatchNormali (None, 14, 14, 1024) 4096        conv4_block5_3_conv[0][0]        \n",
      "__________________________________________________________________________________________________\n",
      "conv4_block5_add (Add)          (None, 14, 14, 1024) 0           conv4_block4_out[0][0]           \n",
      "                                                                 conv4_block5_3_bn[0][0]          \n",
      "__________________________________________________________________________________________________\n",
      "conv4_block5_out (Activation)   (None, 14, 14, 1024) 0           conv4_block5_add[0][0]           \n",
      "__________________________________________________________________________________________________\n",
      "conv4_block6_1_conv (Conv2D)    (None, 14, 14, 256)  262400      conv4_block5_out[0][0]           \n",
      "__________________________________________________________________________________________________\n",
      "conv4_block6_1_bn (BatchNormali (None, 14, 14, 256)  1024        conv4_block6_1_conv[0][0]        \n",
      "__________________________________________________________________________________________________\n",
      "conv4_block6_1_relu (Activation (None, 14, 14, 256)  0           conv4_block6_1_bn[0][0]          \n",
      "__________________________________________________________________________________________________\n",
      "conv4_block6_2_conv (Conv2D)    (None, 14, 14, 256)  590080      conv4_block6_1_relu[0][0]        \n",
      "__________________________________________________________________________________________________\n",
      "conv4_block6_2_bn (BatchNormali (None, 14, 14, 256)  1024        conv4_block6_2_conv[0][0]        \n",
      "__________________________________________________________________________________________________\n",
      "conv4_block6_2_relu (Activation (None, 14, 14, 256)  0           conv4_block6_2_bn[0][0]          \n",
      "__________________________________________________________________________________________________\n",
      "conv4_block6_3_conv (Conv2D)    (None, 14, 14, 1024) 263168      conv4_block6_2_relu[0][0]        \n",
      "__________________________________________________________________________________________________\n",
      "conv4_block6_3_bn (BatchNormali (None, 14, 14, 1024) 4096        conv4_block6_3_conv[0][0]        \n",
      "__________________________________________________________________________________________________\n",
      "conv4_block6_add (Add)          (None, 14, 14, 1024) 0           conv4_block5_out[0][0]           \n",
      "                                                                 conv4_block6_3_bn[0][0]          \n",
      "__________________________________________________________________________________________________\n",
      "conv4_block6_out (Activation)   (None, 14, 14, 1024) 0           conv4_block6_add[0][0]           \n",
      "__________________________________________________________________________________________________\n",
      "conv5_block1_1_conv (Conv2D)    (None, 7, 7, 512)    524800      conv4_block6_out[0][0]           \n",
      "__________________________________________________________________________________________________\n",
      "conv5_block1_1_bn (BatchNormali (None, 7, 7, 512)    2048        conv5_block1_1_conv[0][0]        \n",
      "__________________________________________________________________________________________________\n",
      "conv5_block1_1_relu (Activation (None, 7, 7, 512)    0           conv5_block1_1_bn[0][0]          \n",
      "__________________________________________________________________________________________________\n",
      "conv5_block1_2_conv (Conv2D)    (None, 7, 7, 512)    2359808     conv5_block1_1_relu[0][0]        \n",
      "__________________________________________________________________________________________________\n",
      "conv5_block1_2_bn (BatchNormali (None, 7, 7, 512)    2048        conv5_block1_2_conv[0][0]        \n",
      "__________________________________________________________________________________________________\n",
      "conv5_block1_2_relu (Activation (None, 7, 7, 512)    0           conv5_block1_2_bn[0][0]          \n",
      "__________________________________________________________________________________________________\n",
      "conv5_block1_0_conv (Conv2D)    (None, 7, 7, 2048)   2099200     conv4_block6_out[0][0]           \n",
      "__________________________________________________________________________________________________\n",
      "conv5_block1_3_conv (Conv2D)    (None, 7, 7, 2048)   1050624     conv5_block1_2_relu[0][0]        \n",
      "__________________________________________________________________________________________________\n",
      "conv5_block1_0_bn (BatchNormali (None, 7, 7, 2048)   8192        conv5_block1_0_conv[0][0]        \n",
      "__________________________________________________________________________________________________\n",
      "conv5_block1_3_bn (BatchNormali (None, 7, 7, 2048)   8192        conv5_block1_3_conv[0][0]        \n",
      "__________________________________________________________________________________________________\n",
      "conv5_block1_add (Add)          (None, 7, 7, 2048)   0           conv5_block1_0_bn[0][0]          \n",
      "                                                                 conv5_block1_3_bn[0][0]          \n",
      "__________________________________________________________________________________________________\n",
      "conv5_block1_out (Activation)   (None, 7, 7, 2048)   0           conv5_block1_add[0][0]           \n",
      "__________________________________________________________________________________________________\n",
      "conv5_block2_1_conv (Conv2D)    (None, 7, 7, 512)    1049088     conv5_block1_out[0][0]           \n",
      "__________________________________________________________________________________________________\n",
      "conv5_block2_1_bn (BatchNormali (None, 7, 7, 512)    2048        conv5_block2_1_conv[0][0]        \n",
      "__________________________________________________________________________________________________\n",
      "conv5_block2_1_relu (Activation (None, 7, 7, 512)    0           conv5_block2_1_bn[0][0]          \n",
      "__________________________________________________________________________________________________\n",
      "conv5_block2_2_conv (Conv2D)    (None, 7, 7, 512)    2359808     conv5_block2_1_relu[0][0]        \n",
      "__________________________________________________________________________________________________\n",
      "conv5_block2_2_bn (BatchNormali (None, 7, 7, 512)    2048        conv5_block2_2_conv[0][0]        \n",
      "__________________________________________________________________________________________________\n",
      "conv5_block2_2_relu (Activation (None, 7, 7, 512)    0           conv5_block2_2_bn[0][0]          \n",
      "__________________________________________________________________________________________________\n",
      "conv5_block2_3_conv (Conv2D)    (None, 7, 7, 2048)   1050624     conv5_block2_2_relu[0][0]        \n",
      "__________________________________________________________________________________________________\n",
      "conv5_block2_3_bn (BatchNormali (None, 7, 7, 2048)   8192        conv5_block2_3_conv[0][0]        \n",
      "__________________________________________________________________________________________________\n",
      "conv5_block2_add (Add)          (None, 7, 7, 2048)   0           conv5_block1_out[0][0]           \n",
      "                                                                 conv5_block2_3_bn[0][0]          \n",
      "__________________________________________________________________________________________________\n",
      "conv5_block2_out (Activation)   (None, 7, 7, 2048)   0           conv5_block2_add[0][0]           \n",
      "__________________________________________________________________________________________________\n",
      "conv5_block3_1_conv (Conv2D)    (None, 7, 7, 512)    1049088     conv5_block2_out[0][0]           \n",
      "__________________________________________________________________________________________________\n",
      "conv5_block3_1_bn (BatchNormali (None, 7, 7, 512)    2048        conv5_block3_1_conv[0][0]        \n",
      "__________________________________________________________________________________________________\n",
      "conv5_block3_1_relu (Activation (None, 7, 7, 512)    0           conv5_block3_1_bn[0][0]          \n",
      "__________________________________________________________________________________________________\n",
      "conv5_block3_2_conv (Conv2D)    (None, 7, 7, 512)    2359808     conv5_block3_1_relu[0][0]        \n",
      "__________________________________________________________________________________________________\n",
      "conv5_block3_2_bn (BatchNormali (None, 7, 7, 512)    2048        conv5_block3_2_conv[0][0]        \n",
      "__________________________________________________________________________________________________\n",
      "conv5_block3_2_relu (Activation (None, 7, 7, 512)    0           conv5_block3_2_bn[0][0]          \n",
      "__________________________________________________________________________________________________\n",
      "conv5_block3_3_conv (Conv2D)    (None, 7, 7, 2048)   1050624     conv5_block3_2_relu[0][0]        \n",
      "__________________________________________________________________________________________________\n",
      "conv5_block3_3_bn (BatchNormali (None, 7, 7, 2048)   8192        conv5_block3_3_conv[0][0]        \n",
      "__________________________________________________________________________________________________\n",
      "conv5_block3_add (Add)          (None, 7, 7, 2048)   0           conv5_block2_out[0][0]           \n",
      "                                                                 conv5_block3_3_bn[0][0]          \n",
      "__________________________________________________________________________________________________\n",
      "conv5_block3_out (Activation)   (None, 7, 7, 2048)   0           conv5_block3_add[0][0]           \n",
      "__________________________________________________________________________________________________\n",
      "flatten (Flatten)               (None, 100352)       0           conv5_block3_out[0][0]           \n",
      "__________________________________________________________________________________________________\n",
      "dense (Dense)                   (None, 3)            301059      flatten[0][0]                    \n",
      "==================================================================================================\n",
      "Total params: 23,888,771\n",
      "Trainable params: 301,059\n",
      "Non-trainable params: 23,587,712\n",
      "__________________________________________________________________________________________________\n"
     ]
    }
   ],
   "source": [
    "# view the structure of the model\n",
    "model.summary()"
   ]
  },
  {
   "cell_type": "code",
   "execution_count": 10,
   "metadata": {
    "colab": {},
    "colab_type": "code",
    "executionInfo": {
     "elapsed": 1240,
     "status": "ok",
     "timestamp": 1594356684903,
     "user": {
      "displayName": "Vinay Kalmoodkar",
      "photoUrl": "https://lh3.googleusercontent.com/a-/AOh14GiKfkFaddOuaIe9XV3QKqm-o1IFM6WMKoS3xHMjaA=s64",
      "userId": "01579867341766004659"
     },
     "user_tz": -330
    },
    "id": "2r9a-2iVmKtp"
   },
   "outputs": [],
   "source": [
    "# compile config\n",
    "model.compile(\n",
    "  loss='categorical_crossentropy',\n",
    "  optimizer='adam',\n",
    "  metrics=['accuracy']\n",
    ")"
   ]
  },
  {
   "cell_type": "markdown",
   "metadata": {},
   "source": [
    "### Loading the dataset"
   ]
  },
  {
   "cell_type": "code",
   "execution_count": 11,
   "metadata": {
    "colab": {},
    "colab_type": "code",
    "executionInfo": {
     "elapsed": 1222,
     "status": "ok",
     "timestamp": 1594356689370,
     "user": {
      "displayName": "Vinay Kalmoodkar",
      "photoUrl": "https://lh3.googleusercontent.com/a-/AOh14GiKfkFaddOuaIe9XV3QKqm-o1IFM6WMKoS3xHMjaA=s64",
      "userId": "01579867341766004659"
     },
     "user_tz": -330
    },
    "id": "U5EK8hB9mKtx"
   },
   "outputs": [],
   "source": [
    "# Use the Image Data Generator to import the images from the dataset\n",
    "# from tensorflow.keras.preprocessing.image import ImageDataGenerator\n",
    "\n",
    "#Data Augmentation for train data\n",
    "train_datagen = ImageDataGenerator(rescale = 1./255,\n",
    "                                   shear_range = 0.2,\n",
    "                                   zoom_range = 0.2,\n",
    "                                   horizontal_flip = True)\n",
    "\n",
    "test_datagen = ImageDataGenerator(rescale = 1./255)"
   ]
  },
  {
   "cell_type": "code",
   "execution_count": 12,
   "metadata": {
    "colab": {
     "base_uri": "https://localhost:8080/",
     "height": 34
    },
    "colab_type": "code",
    "executionInfo": {
     "elapsed": 1082,
     "status": "ok",
     "timestamp": 1594356690616,
     "user": {
      "displayName": "Vinay Kalmoodkar",
      "photoUrl": "https://lh3.googleusercontent.com/a-/AOh14GiKfkFaddOuaIe9XV3QKqm-o1IFM6WMKoS3xHMjaA=s64",
      "userId": "01579867341766004659"
     },
     "user_tz": -330
    },
    "id": "FfGNMKNHmKt2",
    "outputId": "e4b41fd0-9b7b-46ae-b1e9-1e10accac549"
   },
   "outputs": [
    {
     "name": "stdout",
     "output_type": "stream",
     "text": [
      "Found 154 images belonging to 3 classes.\n"
     ]
    }
   ],
   "source": [
    "training_set = train_datagen.flow_from_directory(train_path,\n",
    "                                                 target_size = (224, 224),\n",
    "                                                 batch_size = 32,\n",
    "                                                 class_mode = 'categorical')"
   ]
  },
  {
   "cell_type": "code",
   "execution_count": 13,
   "metadata": {
    "colab": {
     "base_uri": "https://localhost:8080/",
     "height": 34
    },
    "colab_type": "code",
    "executionInfo": {
     "elapsed": 1200,
     "status": "ok",
     "timestamp": 1594356696002,
     "user": {
      "displayName": "Vinay Kalmoodkar",
      "photoUrl": "https://lh3.googleusercontent.com/a-/AOh14GiKfkFaddOuaIe9XV3QKqm-o1IFM6WMKoS3xHMjaA=s64",
      "userId": "01579867341766004659"
     },
     "user_tz": -330
    },
    "id": "MhHILIfMmKt6",
    "outputId": "187d2507-f757-4b36-9925-16fe943853d1"
   },
   "outputs": [
    {
     "name": "stdout",
     "output_type": "stream",
     "text": [
      "Found 32 images belonging to 3 classes.\n"
     ]
    }
   ],
   "source": [
    "test_set = test_datagen.flow_from_directory(valid_path,\n",
    "                                            target_size = (224, 224),\n",
    "                                            batch_size = 32,\n",
    "                                            class_mode = 'categorical')"
   ]
  },
  {
   "cell_type": "markdown",
   "metadata": {},
   "source": [
    "### Model Training"
   ]
  },
  {
   "cell_type": "code",
   "execution_count": 14,
   "metadata": {
    "colab": {
     "base_uri": "https://localhost:8080/",
     "height": 1000
    },
    "colab_type": "code",
    "executionInfo": {
     "elapsed": 381633,
     "status": "ok",
     "timestamp": 1594357081622,
     "user": {
      "displayName": "Vinay Kalmoodkar",
      "photoUrl": "https://lh3.googleusercontent.com/a-/AOh14GiKfkFaddOuaIe9XV3QKqm-o1IFM6WMKoS3xHMjaA=s64",
      "userId": "01579867341766004659"
     },
     "user_tz": -330
    },
    "id": "hg8I0wr8mKuE",
    "outputId": "4ce14565-0314-49dd-b7c8-8520603962d1"
   },
   "outputs": [
    {
     "name": "stdout",
     "output_type": "stream",
     "text": [
      "WARNING:tensorflow:From <ipython-input-14-6a59a8552182>:8: Model.fit_generator (from tensorflow.python.keras.engine.training) is deprecated and will be removed in a future version.\n",
      "Instructions for updating:\n",
      "Please use Model.fit, which supports generators.\n",
      "Epoch 1/50\n"
     ]
    },
    {
     "name": "stderr",
     "output_type": "stream",
     "text": [
      "/usr/local/lib/python3.6/dist-packages/PIL/Image.py:932: UserWarning: Palette images with Transparency expressed in bytes should be converted to RGBA images\n",
      "  \"Palette images with Transparency expressed in bytes should be \"\n"
     ]
    },
    {
     "name": "stdout",
     "output_type": "stream",
     "text": [
      "5/5 [==============================] - 7s 1s/step - loss: 6.6359 - accuracy: 0.3247 - val_loss: 6.7481 - val_accuracy: 0.5000\n",
      "Epoch 2/50\n",
      "5/5 [==============================] - 6s 1s/step - loss: 5.3693 - accuracy: 0.2792 - val_loss: 4.2127 - val_accuracy: 0.3438\n",
      "Epoch 3/50\n",
      "5/5 [==============================] - 6s 1s/step - loss: 3.4419 - accuracy: 0.3896 - val_loss: 3.7748 - val_accuracy: 0.3438\n",
      "Epoch 4/50\n",
      "5/5 [==============================] - 6s 1s/step - loss: 3.0694 - accuracy: 0.4416 - val_loss: 1.3140 - val_accuracy: 0.6250\n",
      "Epoch 5/50\n",
      "5/5 [==============================] - 6s 1s/step - loss: 1.8954 - accuracy: 0.4481 - val_loss: 2.5039 - val_accuracy: 0.5625\n",
      "Epoch 6/50\n",
      "5/5 [==============================] - 6s 1s/step - loss: 1.7584 - accuracy: 0.5519 - val_loss: 1.6939 - val_accuracy: 0.5000\n",
      "Epoch 7/50\n",
      "5/5 [==============================] - 6s 1s/step - loss: 1.2656 - accuracy: 0.5195 - val_loss: 1.7842 - val_accuracy: 0.5625\n",
      "Epoch 8/50\n",
      "5/5 [==============================] - 6s 1s/step - loss: 1.1695 - accuracy: 0.5974 - val_loss: 1.6186 - val_accuracy: 0.5312\n",
      "Epoch 9/50\n",
      "5/5 [==============================] - 6s 1s/step - loss: 1.5870 - accuracy: 0.4870 - val_loss: 1.5156 - val_accuracy: 0.5000\n",
      "Epoch 10/50\n",
      "5/5 [==============================] - 6s 1s/step - loss: 1.1718 - accuracy: 0.5519 - val_loss: 1.3743 - val_accuracy: 0.6250\n",
      "Epoch 11/50\n",
      "5/5 [==============================] - 6s 1s/step - loss: 0.8559 - accuracy: 0.6688 - val_loss: 1.3477 - val_accuracy: 0.5938\n",
      "Epoch 12/50\n",
      "5/5 [==============================] - 6s 1s/step - loss: 0.8963 - accuracy: 0.5974 - val_loss: 1.2608 - val_accuracy: 0.6562\n",
      "Epoch 13/50\n",
      "5/5 [==============================] - 6s 1s/step - loss: 0.7223 - accuracy: 0.7208 - val_loss: 1.1063 - val_accuracy: 0.6875\n",
      "Epoch 14/50\n",
      "5/5 [==============================] - 6s 1s/step - loss: 0.6610 - accuracy: 0.7468 - val_loss: 1.1325 - val_accuracy: 0.6250\n",
      "Epoch 15/50\n",
      "5/5 [==============================] - 6s 1s/step - loss: 0.6455 - accuracy: 0.7078 - val_loss: 0.9283 - val_accuracy: 0.7500\n",
      "Epoch 16/50\n",
      "5/5 [==============================] - 6s 1s/step - loss: 0.5263 - accuracy: 0.7922 - val_loss: 0.8982 - val_accuracy: 0.6875\n",
      "Epoch 17/50\n",
      "5/5 [==============================] - 6s 1s/step - loss: 0.5393 - accuracy: 0.7662 - val_loss: 1.1210 - val_accuracy: 0.5938\n",
      "Epoch 18/50\n",
      "5/5 [==============================] - 6s 1s/step - loss: 0.5298 - accuracy: 0.7727 - val_loss: 0.9073 - val_accuracy: 0.7812\n",
      "Epoch 19/50\n",
      "5/5 [==============================] - 6s 1s/step - loss: 0.4850 - accuracy: 0.8117 - val_loss: 0.8313 - val_accuracy: 0.7812\n",
      "Epoch 20/50\n",
      "5/5 [==============================] - 6s 1s/step - loss: 0.4497 - accuracy: 0.8377 - val_loss: 0.8143 - val_accuracy: 0.7500\n",
      "Epoch 21/50\n",
      "5/5 [==============================] - 6s 1s/step - loss: 0.4837 - accuracy: 0.8247 - val_loss: 0.8327 - val_accuracy: 0.7500\n",
      "Epoch 22/50\n",
      "5/5 [==============================] - 6s 1s/step - loss: 0.4094 - accuracy: 0.8896 - val_loss: 0.9299 - val_accuracy: 0.6875\n",
      "Epoch 23/50\n",
      "5/5 [==============================] - 6s 1s/step - loss: 0.4603 - accuracy: 0.8247 - val_loss: 0.9942 - val_accuracy: 0.6875\n",
      "Epoch 24/50\n",
      "5/5 [==============================] - 6s 1s/step - loss: 0.4750 - accuracy: 0.8117 - val_loss: 1.0884 - val_accuracy: 0.6562\n",
      "Epoch 25/50\n",
      "5/5 [==============================] - 6s 1s/step - loss: 0.4447 - accuracy: 0.8766 - val_loss: 0.9269 - val_accuracy: 0.7188\n",
      "Epoch 26/50\n",
      "5/5 [==============================] - 6s 1s/step - loss: 0.4356 - accuracy: 0.7922 - val_loss: 1.0820 - val_accuracy: 0.6250\n",
      "Epoch 27/50\n",
      "5/5 [==============================] - 6s 1s/step - loss: 0.4257 - accuracy: 0.8117 - val_loss: 0.9017 - val_accuracy: 0.7812\n",
      "Epoch 28/50\n",
      "5/5 [==============================] - 6s 1s/step - loss: 0.3679 - accuracy: 0.8961 - val_loss: 1.1447 - val_accuracy: 0.6250\n",
      "Epoch 29/50\n",
      "5/5 [==============================] - 6s 1s/step - loss: 0.3860 - accuracy: 0.8442 - val_loss: 0.8235 - val_accuracy: 0.7812\n",
      "Epoch 30/50\n",
      "5/5 [==============================] - 6s 1s/step - loss: 0.3610 - accuracy: 0.9091 - val_loss: 0.9263 - val_accuracy: 0.6875\n",
      "Epoch 31/50\n",
      "5/5 [==============================] - 6s 1s/step - loss: 0.3883 - accuracy: 0.8766 - val_loss: 0.9493 - val_accuracy: 0.6875\n",
      "Epoch 32/50\n",
      "5/5 [==============================] - 6s 1s/step - loss: 0.4540 - accuracy: 0.8312 - val_loss: 0.9893 - val_accuracy: 0.6875\n",
      "Epoch 33/50\n",
      "5/5 [==============================] - 6s 1s/step - loss: 0.3531 - accuracy: 0.8961 - val_loss: 1.1211 - val_accuracy: 0.6562\n",
      "Epoch 34/50\n",
      "5/5 [==============================] - 6s 1s/step - loss: 0.4431 - accuracy: 0.8182 - val_loss: 0.9449 - val_accuracy: 0.7500\n",
      "Epoch 35/50\n",
      "5/5 [==============================] - 6s 1s/step - loss: 0.4043 - accuracy: 0.8442 - val_loss: 1.2781 - val_accuracy: 0.5938\n",
      "Epoch 36/50\n",
      "5/5 [==============================] - 6s 1s/step - loss: 0.4639 - accuracy: 0.8377 - val_loss: 0.8559 - val_accuracy: 0.6875\n",
      "Epoch 37/50\n",
      "5/5 [==============================] - 6s 1s/step - loss: 0.4373 - accuracy: 0.8117 - val_loss: 1.0381 - val_accuracy: 0.6562\n",
      "Epoch 38/50\n",
      "5/5 [==============================] - 6s 1s/step - loss: 0.4050 - accuracy: 0.8182 - val_loss: 0.8897 - val_accuracy: 0.7500\n",
      "Epoch 39/50\n",
      "5/5 [==============================] - 6s 1s/step - loss: 0.3473 - accuracy: 0.8636 - val_loss: 1.0963 - val_accuracy: 0.6250\n",
      "Epoch 40/50\n",
      "5/5 [==============================] - 6s 1s/step - loss: 0.5095 - accuracy: 0.7987 - val_loss: 0.8764 - val_accuracy: 0.7500\n",
      "Epoch 41/50\n",
      "5/5 [==============================] - 6s 1s/step - loss: 0.4545 - accuracy: 0.8377 - val_loss: 1.2824 - val_accuracy: 0.6562\n",
      "Epoch 42/50\n",
      "5/5 [==============================] - 6s 1s/step - loss: 0.3203 - accuracy: 0.8636 - val_loss: 1.0348 - val_accuracy: 0.6875\n",
      "Epoch 43/50\n",
      "5/5 [==============================] - 6s 1s/step - loss: 0.3171 - accuracy: 0.8961 - val_loss: 1.0415 - val_accuracy: 0.6875\n",
      "Epoch 44/50\n",
      "5/5 [==============================] - 6s 1s/step - loss: 0.2290 - accuracy: 0.9416 - val_loss: 1.0894 - val_accuracy: 0.7500\n",
      "Epoch 45/50\n",
      "5/5 [==============================] - 6s 1s/step - loss: 0.3290 - accuracy: 0.8571 - val_loss: 1.1139 - val_accuracy: 0.6250\n",
      "Epoch 46/50\n",
      "5/5 [==============================] - 6s 1s/step - loss: 0.3306 - accuracy: 0.8766 - val_loss: 1.1780 - val_accuracy: 0.6250\n",
      "Epoch 47/50\n",
      "5/5 [==============================] - 7s 1s/step - loss: 0.3388 - accuracy: 0.8636 - val_loss: 1.0990 - val_accuracy: 0.7500\n",
      "Epoch 48/50\n",
      "5/5 [==============================] - 6s 1s/step - loss: 0.2445 - accuracy: 0.9545 - val_loss: 1.0931 - val_accuracy: 0.7188\n",
      "Epoch 49/50\n",
      "5/5 [==============================] - 6s 1s/step - loss: 0.2425 - accuracy: 0.9351 - val_loss: 0.9703 - val_accuracy: 0.6875\n",
      "Epoch 50/50\n",
      "5/5 [==============================] - 7s 1s/step - loss: 0.2443 - accuracy: 0.9286 - val_loss: 1.0194 - val_accuracy: 0.7188\n"
     ]
    }
   ],
   "source": [
    "# fit the model\n",
    "history = model.fit_generator(\n",
    "  training_set,\n",
    "  validation_data=test_set,\n",
    "  epochs=50,\n",
    "  steps_per_epoch=len(training_set),\n",
    "  validation_steps=len(test_set)\n",
    ")"
   ]
  },
  {
   "cell_type": "code",
   "execution_count": 15,
   "metadata": {
    "colab": {
     "base_uri": "https://localhost:8080/",
     "height": 285
    },
    "colab_type": "code",
    "executionInfo": {
     "elapsed": 1351,
     "status": "ok",
     "timestamp": 1594357086162,
     "user": {
      "displayName": "Vinay Kalmoodkar",
      "photoUrl": "https://lh3.googleusercontent.com/a-/AOh14GiKfkFaddOuaIe9XV3QKqm-o1IFM6WMKoS3xHMjaA=s64",
      "userId": "01579867341766004659"
     },
     "user_tz": -330
    },
    "id": "mRl1JxlcmKuI",
    "outputId": "1c753345-6e02-4357-ad98-2ac1935945d6"
   },
   "outputs": [
    {
     "data": {
      "image/png": "[encoded data removed]",
      "text/plain": [
       "<Figure size 432x288 with 1 Axes>"
      ]
     },
     "metadata": {
      "needs_background": "light",
      "tags": []
     },
     "output_type": "display_data"
    },
    {
     "data": {
      "text/plain": [
       "<Figure size 432x288 with 0 Axes>"
      ]
     },
     "metadata": {
      "tags": []
     },
     "output_type": "display_data"
    }
   ],
   "source": [
    "#base path to save models and graphs\n",
    "save_path = ''\n",
    "\n",
    "# plot the loss\n",
    "plt.plot(history.history['loss'], label='train loss')\n",
    "plt.plot(history.history['val_loss'], label='val loss')\n",
    "plt.legend()\n",
    "plt.show()\n",
    "plt.savefig(save_path+'/LossVal_loss')"
   ]
  },
  {
   "cell_type": "code",
   "execution_count": 16,
   "metadata": {
    "colab": {
     "base_uri": "https://localhost:8080/",
     "height": 282
    },
    "colab_type": "code",
    "executionInfo": {
     "elapsed": 2043,
     "status": "ok",
     "timestamp": 1594357088252,
     "user": {
      "displayName": "Vinay Kalmoodkar",
      "photoUrl": "https://lh3.googleusercontent.com/a-/AOh14GiKfkFaddOuaIe9XV3QKqm-o1IFM6WMKoS3xHMjaA=s64",
      "userId": "01579867341766004659"
     },
     "user_tz": -330
    },
    "id": "7ahJBq3nmKuM",
    "outputId": "856520d1-c0ad-4921-bbdc-08cfa9ab097a",
    "scrolled": true
   },
   "outputs": [
    {
     "data": {
      "image/png": "[encoded data removed]",
      "text/plain": [
       "<Figure size 432x288 with 1 Axes>"
      ]
     },
     "metadata": {
      "needs_background": "light",
      "tags": []
     },
     "output_type": "display_data"
    },
    {
     "data": {
      "text/plain": [
       "<Figure size 432x288 with 0 Axes>"
      ]
     },
     "metadata": {
      "tags": []
     },
     "output_type": "display_data"
    }
   ],
   "source": [
    "# plot the accuracy\n",
    "plt.plot(history.history['accuracy'], label='train acc')\n",
    "plt.plot(history.history['val_accuracy'], label='val acc')\n",
    "plt.legend()\n",
    "plt.show()\n",
    "plt.savefig(save_path+'/AccVal_acc')"
   ]
  },
  {
   "cell_type": "markdown",
   "metadata": {},
   "source": [
    "### Model Saving"
   ]
  },
  {
   "cell_type": "code",
   "execution_count": 18,
   "metadata": {
    "colab": {
     "base_uri": "https://localhost:8080/",
     "height": 579
    },
    "colab_type": "code",
    "executionInfo": {
     "elapsed": 6164,
     "status": "ok",
     "timestamp": 1594357092412,
     "user": {
      "displayName": "Vinay Kalmoodkar",
      "photoUrl": "https://lh3.googleusercontent.com/a-/AOh14GiKfkFaddOuaIe9XV3QKqm-o1IFM6WMKoS3xHMjaA=s64",
      "userId": "01579867341766004659"
     },
     "user_tz": -330
    },
    "id": "WllYtVogmKud",
    "outputId": "038d86ca-aa50-4bbd-c3b7-fd7583de265e"
   },
   "outputs": [
    {
     "data": {
      "text/plain": [
       "array([[9.9269944e-01, 7.1258838e-03, 1.7466869e-04],\n",
       "       [6.3650477e-01, 3.5111648e-01, 1.2378707e-02],\n",
       "       [4.3807027e-01, 6.1301108e-02, 5.0062865e-01],\n",
       "       [9.9656111e-01, 3.3659718e-03, 7.2981682e-05],\n",
       "       [2.6320030e-03, 9.9736661e-01, 1.4667244e-06],\n",
       "       [5.7610080e-02, 8.7610060e-01, 6.6289298e-02],\n",
       "       [9.9336571e-01, 6.6074263e-03, 2.6939264e-05],\n",
       "       [1.7670120e-01, 1.9207932e-01, 6.3121945e-01],\n",
       "       [9.7990787e-01, 1.9781204e-02, 3.1092495e-04],\n",
       "       [8.8512254e-01, 9.6564412e-02, 1.8313002e-02],\n",
       "       [4.5930767e-03, 8.1481256e-02, 9.1392565e-01],\n",
       "       [4.8522055e-02, 9.4520462e-01, 6.2733414e-03],\n",
       "       [1.8930607e-01, 6.0713422e-01, 2.0355973e-01],\n",
       "       [3.4190536e-02, 9.1630435e-01, 4.9505156e-02],\n",
       "       [1.3154118e-01, 1.9405030e-02, 8.4905380e-01],\n",
       "       [2.0905644e-02, 3.3308223e-01, 6.4601213e-01],\n",
       "       [6.5140468e-01, 3.4760782e-01, 9.8752079e-04],\n",
       "       [1.6644700e-01, 7.3187631e-01, 1.0167666e-01],\n",
       "       [1.3746974e-02, 1.4797194e-01, 8.3828104e-01],\n",
       "       [1.3087668e-02, 9.8670769e-01, 2.0469775e-04],\n",
       "       [9.9311525e-01, 5.8259396e-03, 1.0588227e-03],\n",
       "       [3.9466554e-06, 9.9984956e-01, 1.4650864e-04],\n",
       "       [8.5691577e-01, 1.4295807e-01, 1.2615787e-04],\n",
       "       [9.9959165e-01, 3.8118486e-04, 2.7199440e-05],\n",
       "       [1.6035727e-01, 4.8833546e-01, 3.5130724e-01],\n",
       "       [9.7538120e-01, 2.4617579e-02, 1.1280549e-06],\n",
       "       [1.5934972e-03, 9.9840277e-01, 3.6465165e-06],\n",
       "       [5.4163979e-03, 1.0713713e-02, 9.8386985e-01],\n",
       "       [1.8642740e-01, 6.6167551e-01, 1.5189710e-01],\n",
       "       [2.5318533e-02, 2.5134084e-01, 7.2334063e-01],\n",
       "       [1.9533063e-01, 5.1775688e-01, 2.8691247e-01],\n",
       "       [7.9272933e-02, 4.9354380e-01, 4.2718330e-01]], dtype=float32)"
      ]
     },
     "execution_count": 18,
     "metadata": {
      "tags": []
     },
     "output_type": "execute_result"
    }
   ],
   "source": [
    "#Model Prediction\n",
    "y_pred = model.predict(test_set)\n",
    "y_pred"
   ]
  },
  {
   "cell_type": "code",
   "execution_count": 19,
   "metadata": {
    "colab": {
     "base_uri": "https://localhost:8080/",
     "height": 52
    },
    "colab_type": "code",
    "executionInfo": {
     "elapsed": 1437,
     "status": "ok",
     "timestamp": 1594357093870,
     "user": {
      "displayName": "Vinay Kalmoodkar",
      "photoUrl": "https://lh3.googleusercontent.com/a-/AOh14GiKfkFaddOuaIe9XV3QKqm-o1IFM6WMKoS3xHMjaA=s64",
      "userId": "01579867341766004659"
     },
     "user_tz": -330
    },
    "id": "x6HWdZBcmKus",
    "outputId": "6a133257-00d0-45ef-874f-5685feb098a1"
   },
   "outputs": [
    {
     "data": {
      "text/plain": [
       "array([0, 0, 2, 0, 1, 1, 0, 2, 0, 0, 2, 1, 1, 1, 2, 2, 0, 1, 2, 1, 0, 1,\n",
       "       0, 0, 1, 0, 1, 2, 1, 2, 1, 1])"
      ]
     },
     "execution_count": 19,
     "metadata": {
      "tags": []
     },
     "output_type": "execute_result"
    }
   ],
   "source": [
    "# import numpy as np\n",
    "y_pred = np.argmax(y_pred, axis=1)\n",
    "y_pred"
   ]
  },
  {
   "cell_type": "markdown",
   "metadata": {},
   "source": [
    "### Model Prediction\n",
    "\n",
    "* In app.py file, load the saved model.\n",
    "* Run app.py file to make predictions"
   ]
  }
 ],
 "metadata": {
  "accelerator": "GPU",
  "colab": {
   "collapsed_sections": [],
   "name": "Transfer Learning Resnet 50.ipynb",
   "provenance": []
  },
  "kernelspec": {
   "display_name": "Python 3",
   "language": "python",
   "name": "python3"
  },
  "language_info": {
   "codemirror_mode": {
    "name": "ipython",
    "version": 3
   },
   "file_extension": ".py",
   "mimetype": "text/x-python",
   "name": "python",
   "nbconvert_exporter": "python",
   "pygments_lexer": "ipython3",
   "version": "3.7.6"
  }
 },
 "nbformat": 4,
 "nbformat_minor": 1
}
